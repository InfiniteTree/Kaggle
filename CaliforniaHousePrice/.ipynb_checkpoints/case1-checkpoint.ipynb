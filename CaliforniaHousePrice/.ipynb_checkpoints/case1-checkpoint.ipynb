{
 "cells": [
  {
   "cell_type": "code",
   "execution_count": 1,
   "id": "87a25952",
   "metadata": {},
   "outputs": [
    {
     "ename": "ModuleNotFoundError",
     "evalue": "No module named 'd2l'",
     "output_type": "error",
     "traceback": [
      "\u001b[1;31m---------------------------------------------------------------------------\u001b[0m",
      "\u001b[1;31mModuleNotFoundError\u001b[0m                       Traceback (most recent call last)",
      "Cell \u001b[1;32mIn[1], line 6\u001b[0m\n\u001b[0;32m      4\u001b[0m \u001b[38;5;28;01mimport\u001b[39;00m \u001b[38;5;21;01mnumpy\u001b[39;00m \u001b[38;5;28;01mas\u001b[39;00m \u001b[38;5;21;01mnp\u001b[39;00m\n\u001b[0;32m      5\u001b[0m \u001b[38;5;28;01mimport\u001b[39;00m \u001b[38;5;21;01mpandas\u001b[39;00m \u001b[38;5;28;01mas\u001b[39;00m \u001b[38;5;21;01mpd\u001b[39;00m\n\u001b[1;32m----> 6\u001b[0m \u001b[38;5;28;01mfrom\u001b[39;00m \u001b[38;5;21;01md2l\u001b[39;00m \u001b[38;5;28;01mimport\u001b[39;00m torch \u001b[38;5;28;01mas\u001b[39;00m d2l\n",
      "\u001b[1;31mModuleNotFoundError\u001b[0m: No module named 'd2l'"
     ]
    }
   ],
   "source": [
    "import torch\n",
    "import torch.nn as nn\n",
    "import torch.optim as optim\n",
    "import numpy as np\n",
    "import pandas as pd\n",
    "from d2l import torch as d2l"
   ]
  },
  {
   "cell_type": "code",
   "execution_count": 16,
   "id": "cf31a542",
   "metadata": {},
   "outputs": [],
   "source": [
    "# step 1. Data prepartation\n",
    "test_data = pd.read_csv(\"california-house-prices/test.csv\")\n",
    "train_data = pd.read_csv(\"california-house-prices/train.csv\")\n",
    "###print(train_data.shape)\n",
    "###print(train_data.iloc[0:4],[0,1,-1,-2])"
   ]
  },
  {
   "cell_type": "code",
   "execution_count": 17,
   "id": "3271874c",
   "metadata": {},
   "outputs": [
    {
     "data": {
      "text/plain": [
       "(94878, 129686)"
      ]
     },
     "execution_count": 17,
     "metadata": {},
     "output_type": "execute_result"
    }
   ],
   "source": [
    "# Step2. Data Preprocess\n",
    "all_features = pd.concat((train_data.iloc[:,1:],train_data.iloc[:,1:]))\n",
    "numeric_features = all_features.dtypes[all_features.dtypes != \"object\"].index\n",
    "all_features[numeric_features] = all_features[numeric_features].apply(lambda x:(x-x.mean())/(x.std()))\n",
    "all_features[numeric_features] = all_features[numeric_features].fillna(0)\n",
    "all_features = pd.get_dummies(all_features, dummy_na=True)\n",
    "all_features.shape"
   ]
  },
  {
   "cell_type": "code",
   "execution_count": null,
   "id": "700a04f9",
   "metadata": {},
   "outputs": [],
   "source": [
    "'''\n",
    "class model(nn.Module)：\n",
    "    def __init__(self, input_size):\n",
    "        super(model, self).__init__()\n",
    "        self.fc ==nn.Linear(input_size, 1)\n",
    "        # Optimizer\n",
    "        self.optimizer = optim.Adam(net.parameters(), lr=learning_rate, weight_decay=weight_decay\n",
    "    \n",
    "    def log_rmse(net, features, labels):\n",
    "        clipped_preds = torch.clamp(net(features), 1, float(\"inf\"))\n",
    "        rmse = torch.sqrt(loss(torch.log(clipped_preds),torch.log(labels)))\n",
    "        return rmse.item()\n",
    "\n",
    "    # Train Model\n",
    "    def train(net, train_features, train_labels, test_features, test_labels,\n",
    "              num_epochs, learning_rate, weigth_decay, batch_size):\n",
    "        train_ls, test_ls = [], []\n",
    "        train_iter = d2l.load_array((train_features, train_labels), batch_size)\n",
    "'''"
   ]
  },
  {
   "cell_type": "code",
   "execution_count": 2,
   "id": "037c5f91",
   "metadata": {},
   "outputs": [
    {
     "ename": "SyntaxError",
     "evalue": "'(' was never closed (3525169432.py, line 4)",
     "output_type": "error",
     "traceback": [
      "\u001b[1;36m  Cell \u001b[1;32mIn[2], line 4\u001b[1;36m\u001b[0m\n\u001b[1;33m    optimizer = optim.Adam(net.parameters(), lr=learning_rate, weight_decay=weight_decay\u001b[0m\n\u001b[1;37m                          ^\u001b[0m\n\u001b[1;31mSyntaxError\u001b[0m\u001b[1;31m:\u001b[0m '(' was never closed\n"
     ]
    }
   ],
   "source": [
    "# Step 3. Desgin the basic model\n",
    "# Loss func\n",
    "#criterion = nn.MSELoss()\n",
    "optimizer = optim.Adam(net.parameters(), lr=learning_rate, weight_decay=weight_decay)\n",
    "\n",
    "def log_rmse(net, features, labels):\n",
    "    clipped_preds = torch.clamp(net(features), 1, float(\"inf\"))\n",
    "    rmse = torch.sqrt(loss(torch.log(clipped_preds),torch.log(labels)))\n",
    "    return rmse.item()\n",
    "\n",
    "# Train Model\n",
    "def train(net, optimizer,train_features, train_labels, test_features, test_labels,\n",
    "          num_epochs, learning_rate, weigth_decay, batch_size, ):\n",
    "    train_ls, test_ls = [], []\n",
    "    train_iter = d2l.load_array((train_features, train_labels), batch_size)\n",
    "    for epoch in range(num_epochs):\n",
    "        for X, y in train_iter:\n",
    "            optimizer.zero_grad()\n",
    "            l = loss(net(X),y)\n",
    "            l.backward()\n",
    "            optimizer.step()\n",
    "        train_ls.append(log_rmse(net, train_features, train_labels))\n",
    "        if test_labels is not None:\n",
    "            test_ls.append(log_rmse(net, test_features, test_labels))\n",
    "    return train_ls, test_ls\n",
    "\n",
    "# k_fold_validated\n",
    "def get_k_fold_data(k, i, X, y):\n",
    "    assert k > 1\n",
    "    fold_size = X.shape[0] // k\n",
    "    X_train, y_train = None, None\n",
    "    for j in rang(k):\n",
    "        idx = slice(j * fold_size, (j+1) * fold_size)\n",
    "        X_part, y_part = X[idx, :], y[idx]\n",
    "        if j == i:\n",
    "            X_valid, y_valid = X_part, y_part\n",
    "        elif X_train is None:\n",
    "            X_train, y_train = X_part, y_part\n",
    "        else:\n",
    "            X_train = torch.cat([X_train, X_part], 0)\n",
    "            y_train = torch.cat([y_train, y_part], 0)\n",
    "    return X_train, y_train, X_valid, y_valid\n",
    "\n",
    "def k_fold(k, X_train, y_train, num_epochs, learning_rate, weight_decay, batch_size):\n",
    "    train_l_sum, valid_l_sum = 0, 0\n",
    "    for i n range(k):\n",
    "        data = get_k_fold_data(k, i, X_train, y_train)\n",
    "        net = get_net()\n",
    "        train_ls, valid_ls = train(net, optimizer, *data, num_epochs, learning_rate, weight_decay, batch_size)\n",
    "        train_l_sum += train_ls[-1]\n",
    "        valid_l_sum += valid_ls[-1]\n",
    "        if i==0:\n",
    "            d2l.plot(list(range(1,num_epochs+1)), [train_ls, valid_ls], \n",
    "                     xlabel='epoch', ylabel='rsm', xlim=[1,num_epochs+1], legend=['train','valid'], yscale='log')\n",
    "        print(f'fold{i+1}, train log rmse{float(train_ls[-1]):f}',\n",
    "             f'valid log rmse{float(valid_ls[-1]):f}')\n",
    "    return train_l_sum / k, valid_l_sum / k\n",
    "\n",
    "    "
   ]
  },
  {
   "cell_type": "code",
   "execution_count": null,
   "id": "4d094c3f",
   "metadata": {},
   "outputs": [],
   "source": [
    "k, num_epochs, lr, weight_decay, batch_size = 5, 100, 5, 0, 64\n",
    "train_l ,valid_l = k_fold(k, train_features, train_labels, nump_epochs, lr\n",
    "                          weight_decay, batch_size)"
   ]
  }
 ],
 "metadata": {
  "kernelspec": {
   "display_name": "Python 3 (ipykernel)",
   "language": "python",
   "name": "python3"
  },
  "language_info": {
   "codemirror_mode": {
    "name": "ipython",
    "version": 3
   },
   "file_extension": ".py",
   "mimetype": "text/x-python",
   "name": "python",
   "nbconvert_exporter": "python",
   "pygments_lexer": "ipython3",
   "version": "3.10.9"
  }
 },
 "nbformat": 4,
 "nbformat_minor": 5
}
